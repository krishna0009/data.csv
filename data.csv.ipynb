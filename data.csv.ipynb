{
 "cells": [
  {
   "cell_type": "code",
   "execution_count": 1,
   "metadata": {},
   "outputs": [],
   "source": [
    "import numpy as np\n",
    "import pandas as pd\n",
    "import matplotlib.pyplot as plt\n",
    "import seaborn as sns"
   ]
  },
  {
   "cell_type": "code",
   "execution_count": 2,
   "metadata": {},
   "outputs": [
    {
     "data": {
      "text/html": [
       "<div>\n",
       "<style scoped>\n",
       "    .dataframe tbody tr th:only-of-type {\n",
       "        vertical-align: middle;\n",
       "    }\n",
       "\n",
       "    .dataframe tbody tr th {\n",
       "        vertical-align: top;\n",
       "    }\n",
       "\n",
       "    .dataframe thead th {\n",
       "        text-align: right;\n",
       "    }\n",
       "</style>\n",
       "<table border=\"1\" class=\"dataframe\">\n",
       "  <thead>\n",
       "    <tr style=\"text-align: right;\">\n",
       "      <th></th>\n",
       "      <th>x1</th>\n",
       "      <th>x2</th>\n",
       "      <th>y</th>\n",
       "    </tr>\n",
       "  </thead>\n",
       "  <tbody>\n",
       "    <tr>\n",
       "      <th>0</th>\n",
       "      <td>-119.366669</td>\n",
       "      <td>115.000000</td>\n",
       "      <td>1</td>\n",
       "    </tr>\n",
       "    <tr>\n",
       "      <th>1</th>\n",
       "      <td>-101.108044</td>\n",
       "      <td>97.777159</td>\n",
       "      <td>1</td>\n",
       "    </tr>\n",
       "    <tr>\n",
       "      <th>2</th>\n",
       "      <td>-130.278658</td>\n",
       "      <td>106.767654</td>\n",
       "      <td>1</td>\n",
       "    </tr>\n",
       "    <tr>\n",
       "      <th>3</th>\n",
       "      <td>-114.703415</td>\n",
       "      <td>101.195477</td>\n",
       "      <td>1</td>\n",
       "    </tr>\n",
       "    <tr>\n",
       "      <th>4</th>\n",
       "      <td>-119.366669</td>\n",
       "      <td>115.000000</td>\n",
       "      <td>1</td>\n",
       "    </tr>\n",
       "  </tbody>\n",
       "</table>\n",
       "</div>"
      ],
      "text/plain": [
       "           x1          x2  y\n",
       "0 -119.366669  115.000000  1\n",
       "1 -101.108044   97.777159  1\n",
       "2 -130.278658  106.767654  1\n",
       "3 -114.703415  101.195477  1\n",
       "4 -119.366669  115.000000  1"
      ]
     },
     "execution_count": 2,
     "metadata": {},
     "output_type": "execute_result"
    }
   ],
   "source": [
    "data=pd.read_csv('data.csv')\n",
    "data.head()"
   ]
  },
  {
   "cell_type": "code",
   "execution_count": 3,
   "metadata": {},
   "outputs": [
    {
     "data": {
      "text/plain": [
       "(2227, 3)"
      ]
     },
     "execution_count": 3,
     "metadata": {},
     "output_type": "execute_result"
    }
   ],
   "source": [
    "data.shape"
   ]
  },
  {
   "cell_type": "code",
   "execution_count": 4,
   "metadata": {},
   "outputs": [
    {
     "data": {
      "text/plain": [
       "0    1242\n",
       "1     985\n",
       "Name: y, dtype: int64"
      ]
     },
     "execution_count": 4,
     "metadata": {},
     "output_type": "execute_result"
    }
   ],
   "source": [
    "data['y'].value_counts()"
   ]
  },
  {
   "cell_type": "code",
   "execution_count": 5,
   "metadata": {},
   "outputs": [
    {
     "name": "stdout",
     "output_type": "stream",
     "text": [
      "<class 'pandas.core.frame.DataFrame'>\n",
      "RangeIndex: 2227 entries, 0 to 2226\n",
      "Data columns (total 3 columns):\n",
      " #   Column  Non-Null Count  Dtype  \n",
      "---  ------  --------------  -----  \n",
      " 0   x1      2222 non-null   float64\n",
      " 1   x2      2224 non-null   float64\n",
      " 2   y       2227 non-null   int64  \n",
      "dtypes: float64(2), int64(1)\n",
      "memory usage: 52.3 KB\n"
     ]
    }
   ],
   "source": [
    "data.info()"
   ]
  },
  {
   "cell_type": "code",
   "execution_count": 6,
   "metadata": {},
   "outputs": [
    {
     "data": {
      "text/plain": [
       "x1    5\n",
       "x2    3\n",
       "y     0\n",
       "dtype: int64"
      ]
     },
     "execution_count": 6,
     "metadata": {},
     "output_type": "execute_result"
    }
   ],
   "source": [
    "data.isnull().sum()"
   ]
  },
  {
   "cell_type": "code",
   "execution_count": 7,
   "metadata": {},
   "outputs": [],
   "source": [
    "data['x1'].fillna(data['x1'].mean(),inplace=True)\n",
    "data['x2'].fillna(data['x2'].mean(),inplace=True)"
   ]
  },
  {
   "cell_type": "code",
   "execution_count": 8,
   "metadata": {},
   "outputs": [
    {
     "data": {
      "text/plain": [
       "x1    0\n",
       "x2    0\n",
       "y     0\n",
       "dtype: int64"
      ]
     },
     "execution_count": 8,
     "metadata": {},
     "output_type": "execute_result"
    }
   ],
   "source": [
    "data.isnull().sum()"
   ]
  },
  {
   "cell_type": "code",
   "execution_count": 9,
   "metadata": {},
   "outputs": [
    {
     "data": {
      "text/html": [
       "<div>\n",
       "<style scoped>\n",
       "    .dataframe tbody tr th:only-of-type {\n",
       "        vertical-align: middle;\n",
       "    }\n",
       "\n",
       "    .dataframe tbody tr th {\n",
       "        vertical-align: top;\n",
       "    }\n",
       "\n",
       "    .dataframe thead th {\n",
       "        text-align: right;\n",
       "    }\n",
       "</style>\n",
       "<table border=\"1\" class=\"dataframe\">\n",
       "  <thead>\n",
       "    <tr style=\"text-align: right;\">\n",
       "      <th></th>\n",
       "      <th>x1</th>\n",
       "      <th>x2</th>\n",
       "      <th>y</th>\n",
       "    </tr>\n",
       "  </thead>\n",
       "  <tbody>\n",
       "    <tr>\n",
       "      <th>count</th>\n",
       "      <td>2227.000000</td>\n",
       "      <td>2.227000e+03</td>\n",
       "      <td>2227.000000</td>\n",
       "    </tr>\n",
       "    <tr>\n",
       "      <th>mean</th>\n",
       "      <td>-4.818766</td>\n",
       "      <td>8.947626e+04</td>\n",
       "      <td>0.442299</td>\n",
       "    </tr>\n",
       "    <tr>\n",
       "      <th>std</th>\n",
       "      <td>74.855697</td>\n",
       "      <td>2.981312e+06</td>\n",
       "      <td>0.496771</td>\n",
       "    </tr>\n",
       "    <tr>\n",
       "      <th>min</th>\n",
       "      <td>-134.369160</td>\n",
       "      <td>-1.348761e+02</td>\n",
       "      <td>0.000000</td>\n",
       "    </tr>\n",
       "    <tr>\n",
       "      <th>25%</th>\n",
       "      <td>-71.581453</td>\n",
       "      <td>-7.997687e+01</td>\n",
       "      <td>0.000000</td>\n",
       "    </tr>\n",
       "    <tr>\n",
       "      <th>50%</th>\n",
       "      <td>-9.124370</td>\n",
       "      <td>-1.000000e+00</td>\n",
       "      <td>0.000000</td>\n",
       "    </tr>\n",
       "    <tr>\n",
       "      <th>75%</th>\n",
       "      <td>59.633331</td>\n",
       "      <td>6.400540e+01</td>\n",
       "      <td>1.000000</td>\n",
       "    </tr>\n",
       "    <tr>\n",
       "      <th>max</th>\n",
       "      <td>134.508687</td>\n",
       "      <td>1.000000e+08</td>\n",
       "      <td>1.000000</td>\n",
       "    </tr>\n",
       "  </tbody>\n",
       "</table>\n",
       "</div>"
      ],
      "text/plain": [
       "                x1            x2            y\n",
       "count  2227.000000  2.227000e+03  2227.000000\n",
       "mean     -4.818766  8.947626e+04     0.442299\n",
       "std      74.855697  2.981312e+06     0.496771\n",
       "min    -134.369160 -1.348761e+02     0.000000\n",
       "25%     -71.581453 -7.997687e+01     0.000000\n",
       "50%      -9.124370 -1.000000e+00     0.000000\n",
       "75%      59.633331  6.400540e+01     1.000000\n",
       "max     134.508687  1.000000e+08     1.000000"
      ]
     },
     "execution_count": 9,
     "metadata": {},
     "output_type": "execute_result"
    }
   ],
   "source": [
    "data.describe()"
   ]
  },
  {
   "cell_type": "code",
   "execution_count": 10,
   "metadata": {},
   "outputs": [
    {
     "data": {
      "text/plain": [
       "<AxesSubplot:>"
      ]
     },
     "execution_count": 10,
     "metadata": {},
     "output_type": "execute_result"
    },
    {
     "data": {
      "image/png": "[encoded data removed]",
      "text/plain": [
       "<Figure size 1080x720 with 2 Axes>"
      ]
     },
     "metadata": {
      "needs_background": "light"
     },
     "output_type": "display_data"
    }
   ],
   "source": [
    "plt.figure(figsize=(15,10))\n",
    "sns.heatmap(data.corr(),annot=True)"
   ]
  },
  {
   "cell_type": "code",
   "execution_count": 11,
   "metadata": {},
   "outputs": [
    {
     "data": {
      "image/png": "[encoded data removed]",
      "text/plain": [
       "<Figure size 720x360 with 1 Axes>"
      ]
     },
     "metadata": {
      "needs_background": "light"
     },
     "output_type": "display_data"
    }
   ],
   "source": [
    "data.boxplot(figsize=[10,5])\n",
    "plt.xticks(rotation=90)\n",
    "plt.show()"
   ]
  },
  {
   "cell_type": "code",
   "execution_count": 12,
   "metadata": {},
   "outputs": [],
   "source": [
    "from sklearn.preprocessing import StandardScaler\n",
    "sc=StandardScaler()\n",
    "for i in data.columns:\n",
    "    if i!='y':\n",
    "        data[i]=sc.fit_transform(data[[i]])"
   ]
  },
  {
   "cell_type": "code",
   "execution_count": 13,
   "metadata": {},
   "outputs": [
    {
     "data": {
      "text/html": [
       "<div>\n",
       "<style scoped>\n",
       "    .dataframe tbody tr th:only-of-type {\n",
       "        vertical-align: middle;\n",
       "    }\n",
       "\n",
       "    .dataframe tbody tr th {\n",
       "        vertical-align: top;\n",
       "    }\n",
       "\n",
       "    .dataframe thead th {\n",
       "        text-align: right;\n",
       "    }\n",
       "</style>\n",
       "<table border=\"1\" class=\"dataframe\">\n",
       "  <thead>\n",
       "    <tr style=\"text-align: right;\">\n",
       "      <th></th>\n",
       "      <th>x1</th>\n",
       "      <th>x2</th>\n",
       "      <th>y</th>\n",
       "    </tr>\n",
       "  </thead>\n",
       "  <tbody>\n",
       "    <tr>\n",
       "      <th>0</th>\n",
       "      <td>-1.530593</td>\n",
       "      <td>-0.029981</td>\n",
       "      <td>1</td>\n",
       "    </tr>\n",
       "    <tr>\n",
       "      <th>1</th>\n",
       "      <td>-1.286621</td>\n",
       "      <td>-0.029986</td>\n",
       "      <td>1</td>\n",
       "    </tr>\n",
       "    <tr>\n",
       "      <th>2</th>\n",
       "      <td>-1.676400</td>\n",
       "      <td>-0.029983</td>\n",
       "      <td>1</td>\n",
       "    </tr>\n",
       "    <tr>\n",
       "      <th>3</th>\n",
       "      <td>-1.468283</td>\n",
       "      <td>-0.029985</td>\n",
       "      <td>1</td>\n",
       "    </tr>\n",
       "    <tr>\n",
       "      <th>4</th>\n",
       "      <td>-1.530593</td>\n",
       "      <td>-0.029981</td>\n",
       "      <td>1</td>\n",
       "    </tr>\n",
       "  </tbody>\n",
       "</table>\n",
       "</div>"
      ],
      "text/plain": [
       "         x1        x2  y\n",
       "0 -1.530593 -0.029981  1\n",
       "1 -1.286621 -0.029986  1\n",
       "2 -1.676400 -0.029983  1\n",
       "3 -1.468283 -0.029985  1\n",
       "4 -1.530593 -0.029981  1"
      ]
     },
     "execution_count": 13,
     "metadata": {},
     "output_type": "execute_result"
    }
   ],
   "source": [
    "data.head()"
   ]
  },
  {
   "cell_type": "code",
   "execution_count": 14,
   "metadata": {},
   "outputs": [
    {
     "data": {
      "text/html": [
       "<div>\n",
       "<style scoped>\n",
       "    .dataframe tbody tr th:only-of-type {\n",
       "        vertical-align: middle;\n",
       "    }\n",
       "\n",
       "    .dataframe tbody tr th {\n",
       "        vertical-align: top;\n",
       "    }\n",
       "\n",
       "    .dataframe thead th {\n",
       "        text-align: right;\n",
       "    }\n",
       "</style>\n",
       "<table border=\"1\" class=\"dataframe\">\n",
       "  <thead>\n",
       "    <tr style=\"text-align: right;\">\n",
       "      <th></th>\n",
       "      <th>x1</th>\n",
       "      <th>x2</th>\n",
       "    </tr>\n",
       "  </thead>\n",
       "  <tbody>\n",
       "    <tr>\n",
       "      <th>0</th>\n",
       "      <td>-1.530593</td>\n",
       "      <td>-0.029981</td>\n",
       "    </tr>\n",
       "    <tr>\n",
       "      <th>1</th>\n",
       "      <td>-1.286621</td>\n",
       "      <td>-0.029986</td>\n",
       "    </tr>\n",
       "    <tr>\n",
       "      <th>2</th>\n",
       "      <td>-1.676400</td>\n",
       "      <td>-0.029983</td>\n",
       "    </tr>\n",
       "    <tr>\n",
       "      <th>3</th>\n",
       "      <td>-1.468283</td>\n",
       "      <td>-0.029985</td>\n",
       "    </tr>\n",
       "    <tr>\n",
       "      <th>4</th>\n",
       "      <td>-1.530593</td>\n",
       "      <td>-0.029981</td>\n",
       "    </tr>\n",
       "  </tbody>\n",
       "</table>\n",
       "</div>"
      ],
      "text/plain": [
       "         x1        x2\n",
       "0 -1.530593 -0.029981\n",
       "1 -1.286621 -0.029986\n",
       "2 -1.676400 -0.029983\n",
       "3 -1.468283 -0.029985\n",
       "4 -1.530593 -0.029981"
      ]
     },
     "execution_count": 14,
     "metadata": {},
     "output_type": "execute_result"
    }
   ],
   "source": [
    "x=data.drop('y',1)\n",
    "x.head()"
   ]
  },
  {
   "cell_type": "code",
   "execution_count": 15,
   "metadata": {},
   "outputs": [],
   "source": [
    "y=data.y"
   ]
  },
  {
   "cell_type": "code",
   "execution_count": 16,
   "metadata": {},
   "outputs": [
    {
     "data": {
      "text/plain": [
       "((1558, 2), (669, 2), (1558,), (669,))"
      ]
     },
     "execution_count": 16,
     "metadata": {},
     "output_type": "execute_result"
    }
   ],
   "source": [
    "from sklearn.model_selection import train_test_split\n",
    "x_train,x_test,y_train,y_test=train_test_split(x,y,train_size=0.7,random_state=42)\n",
    "x_train.shape,x_test.shape,y_train.shape,y_test.shape"
   ]
  },
  {
   "cell_type": "code",
   "execution_count": 17,
   "metadata": {},
   "outputs": [],
   "source": [
    "from sklearn.linear_model import LogisticRegression\n",
    "from sklearn.neighbors import KNeighborsClassifier\n",
    "from sklearn.tree import DecisionTreeClassifier\n",
    "from sklearn.svm import SVC "
   ]
  },
  {
   "cell_type": "code",
   "execution_count": 18,
   "metadata": {},
   "outputs": [],
   "source": [
    "models=[]\n",
    "models.append(('LogisticRegression',LogisticRegression()))\n",
    "models.append(('KNeighborsClassifier',KNeighborsClassifier()))\n",
    "models.append(('DecisionTreeClassifier',DecisionTreeClassifier()))\n",
    "models.append(('SVC',SVC()))\n"
   ]
  },
  {
   "cell_type": "code",
   "execution_count": 19,
   "metadata": {},
   "outputs": [
    {
     "data": {
      "text/plain": [
       "[('LogisticRegression', LogisticRegression()),\n",
       " ('KNeighborsClassifier', KNeighborsClassifier()),\n",
       " ('DecisionTreeClassifier', DecisionTreeClassifier()),\n",
       " ('SVC', SVC())]"
      ]
     },
     "execution_count": 19,
     "metadata": {},
     "output_type": "execute_result"
    }
   ],
   "source": [
    "models"
   ]
  },
  {
   "cell_type": "code",
   "execution_count": 20,
   "metadata": {},
   "outputs": [],
   "source": [
    "from sklearn.metrics import accuracy_score,confusion_matrix,classification_report\n",
    "from sklearn import metrics\n",
    "from sklearn.model_selection import cross_val_score\n",
    "from sklearn.model_selection import GridSearchCV"
   ]
  },
  {
   "cell_type": "code",
   "execution_count": 21,
   "metadata": {},
   "outputs": [],
   "source": [
    "para_grid={\n",
    "    'Logistic Regression': {'penalty': ('l1', 'l2'),\n",
    "                             \n",
    "                             },\n",
    "    \n",
    "    'knn':{'n_neighbors':[1,40]},\n",
    "    \n",
    "    'DecisionTreeClassifier':{\"criterion\":(\"gini\", \"entropy\"), \n",
    "                              \"splitter\":(\"best\", \"random\"), \n",
    "                              \"max_depth\":(list(range(1, 20))), \n",
    "                              \"min_samples_split\":[2, 3, 4], \n",
    "                              \"min_samples_leaf\":list(range(1, 20)) \n",
    "                             },\n",
    "    \n",
    "    'SVM' :  [{'C': (np.arange(0.1,1,0.1)) , 'kernel': ['linear'],\n",
    "              'C': (np.arange(0.1,1,0.1)) , 'gamma': [0.01,0.02,0.03,0.04,0.05], 'kernel': ['rbf'],\n",
    "              'degree': [2,3,4] ,'gamma':[0.01,0.02,0.03,0.04,0.05], 'C':(np.arange(0.1,1,0.1)) , 'kernel':['poly']\n",
    "             }]\n",
    "}"
   ]
  },
  {
   "cell_type": "code",
   "execution_count": 22,
   "metadata": {},
   "outputs": [],
   "source": [
    "def parameter(name,model,x_train,y_train):\n",
    "    grid=GridSearchCV(model,para_grid,scoring='f1',cv=3)\n",
    "    grid.fit(x_train,y_train)\n",
    "    print('best_param',grid.best_params_)\n",
    "    print('best_score',gird.best_score_)"
   ]
  },
  {
   "cell_type": "code",
   "execution_count": 23,
   "metadata": {},
   "outputs": [],
   "source": [
    "def eval_metrics(target,prob,threshold):\n",
    "        \"\"\" target =y_yest,prob=logistic.predict(x_test),Threshold =Cutoff Threshold \"\"\"\n",
    "        data=pd.DataFrame()\n",
    "        data['pred_proba'] = pd.Series(prob)\n",
    "        data['pred'] = data['pred_proba'].map(lambda x: 1.0 if x > threshold else 0.0)\n",
    "        accuracy=metrics.accuracy_score(target,data['pred'])\n",
    "        precision= metrics.precision_score(target,data['pred'])\n",
    "        recall= metrics.recall_score(target,data['pred'])\n",
    "        f1_score = metrics.f1_score(target,data['pred'])\n",
    "        roc_auc = metrics.roc_auc_score(target,data['pred'])\n",
    "        return(accuracy,precision,recall,f1_score,roc_auc)"
   ]
  },
  {
   "cell_type": "code",
   "execution_count": 24,
   "metadata": {},
   "outputs": [],
   "source": [
    "def model_imp(x,y,model_list,th,gridsearch=False,cv_validation=True):\n",
    "    #x_train,x_test,y_train,y_test=train_test_split(x,y,train_size=0.7,random_state=42)\n",
    "    col_names = ['Algorithm', 'Accuracy','Precison','Recall','f1-score','AUC-ROC']\n",
    "    results_final = pd.DataFrame(columns=col_names)\n",
    "    i = 0\n",
    "    for name,model in model_list:\n",
    "        print('model',name)\n",
    "        model.fit(x_train,y_train)\n",
    "        pred_test = model.predict(x_test)\n",
    "        accuracy,precision,recall,f1_score,roc_auc=eval_metrics(y_test,pred_test,th)\n",
    "        results_final.loc[i]=[name,accuracy,precision,recall,f1_score,roc_auc]\n",
    "        i += 1\n",
    "        \n",
    "        \n",
    "        if gridsearch:\n",
    "            parameter(name,model,x_train,y_train)\n",
    "            \n",
    "        if cv_validation:\n",
    "            score_cv = cross_val_score(estimator = model, X= x_train, y = y_train, cv = 10,scoring='accuracy')\n",
    "            print(\" K fold Cross validation scores\",score_cv)\n",
    "            print(\"Mean of K fold cross validation \",score_cv.mean())\n",
    "       \n",
    "   \n",
    "    return(results_final)\n",
    "            "
   ]
  },
  {
   "cell_type": "code",
   "execution_count": 25,
   "metadata": {},
   "outputs": [
    {
     "name": "stdout",
     "output_type": "stream",
     "text": [
      "model LogisticRegression\n",
      "model KNeighborsClassifier\n",
      "model DecisionTreeClassifier\n",
      "model SVC\n"
     ]
    },
    {
     "data": {
      "text/html": [
       "<div>\n",
       "<style scoped>\n",
       "    .dataframe tbody tr th:only-of-type {\n",
       "        vertical-align: middle;\n",
       "    }\n",
       "\n",
       "    .dataframe tbody tr th {\n",
       "        vertical-align: top;\n",
       "    }\n",
       "\n",
       "    .dataframe thead th {\n",
       "        text-align: right;\n",
       "    }\n",
       "</style>\n",
       "<table border=\"1\" class=\"dataframe\">\n",
       "  <thead>\n",
       "    <tr style=\"text-align: right;\">\n",
       "      <th></th>\n",
       "      <th>Algorithm</th>\n",
       "      <th>Accuracy</th>\n",
       "      <th>Precison</th>\n",
       "      <th>Recall</th>\n",
       "      <th>f1-score</th>\n",
       "      <th>AUC-ROC</th>\n",
       "    </tr>\n",
       "  </thead>\n",
       "  <tbody>\n",
       "    <tr>\n",
       "      <th>0</th>\n",
       "      <td>LogisticRegression</td>\n",
       "      <td>0.566517</td>\n",
       "      <td>0.563492</td>\n",
       "      <td>0.232026</td>\n",
       "      <td>0.328704</td>\n",
       "      <td>0.540255</td>\n",
       "    </tr>\n",
       "    <tr>\n",
       "      <th>1</th>\n",
       "      <td>KNeighborsClassifier</td>\n",
       "      <td>0.532138</td>\n",
       "      <td>0.486275</td>\n",
       "      <td>0.405229</td>\n",
       "      <td>0.442068</td>\n",
       "      <td>0.522174</td>\n",
       "    </tr>\n",
       "    <tr>\n",
       "      <th>2</th>\n",
       "      <td>DecisionTreeClassifier</td>\n",
       "      <td>0.958146</td>\n",
       "      <td>0.954248</td>\n",
       "      <td>0.954248</td>\n",
       "      <td>0.954248</td>\n",
       "      <td>0.957840</td>\n",
       "    </tr>\n",
       "    <tr>\n",
       "      <th>3</th>\n",
       "      <td>SVC</td>\n",
       "      <td>0.563528</td>\n",
       "      <td>0.549296</td>\n",
       "      <td>0.254902</td>\n",
       "      <td>0.348214</td>\n",
       "      <td>0.539297</td>\n",
       "    </tr>\n",
       "  </tbody>\n",
       "</table>\n",
       "</div>"
      ],
      "text/plain": [
       "                Algorithm  Accuracy  Precison    Recall  f1-score   AUC-ROC\n",
       "0      LogisticRegression  0.566517  0.563492  0.232026  0.328704  0.540255\n",
       "1    KNeighborsClassifier  0.532138  0.486275  0.405229  0.442068  0.522174\n",
       "2  DecisionTreeClassifier  0.958146  0.954248  0.954248  0.954248  0.957840\n",
       "3                     SVC  0.563528  0.549296  0.254902  0.348214  0.539297"
      ]
     },
     "execution_count": 25,
     "metadata": {},
     "output_type": "execute_result"
    }
   ],
   "source": [
    "model_imp(x_train,y_train,models,th=0.5,gridsearch=False,cv_validation=False)"
   ]
  },
  {
   "cell_type": "code",
   "execution_count": null,
   "metadata": {},
   "outputs": [],
   "source": []
  },
  {
   "cell_type": "code",
   "execution_count": null,
   "metadata": {},
   "outputs": [],
   "source": []
  },
  {
   "cell_type": "markdown",
   "metadata": {},
   "source": [
    "## LogisticRegression"
   ]
  },
  {
   "cell_type": "code",
   "execution_count": 26,
   "metadata": {},
   "outputs": [],
   "source": [
    "from sklearn.linear_model import LogisticRegression\n",
    "lr=LogisticRegression()\n",
    "lr.fit(x_train,y_train)\n",
    "y_train_pred=lr.predict(x_train)\n",
    "y_test_pred=lr.predict(x_test)"
   ]
  },
  {
   "cell_type": "code",
   "execution_count": 27,
   "metadata": {},
   "outputs": [
    {
     "name": "stdout",
     "output_type": "stream",
     "text": [
      "0.5847240051347882\n",
      "[[760 119]\n",
      " [528 151]]\n",
      "0.5665171898355755\n",
      "[[308  55]\n",
      " [235  71]]\n"
     ]
    }
   ],
   "source": [
    "from sklearn.metrics import accuracy_score,confusion_matrix\n",
    "print(accuracy_score(y_train,y_train_pred))\n",
    "print(confusion_matrix(y_train,y_train_pred))\n",
    "print(accuracy_score(y_test,y_test_pred))\n",
    "print(confusion_matrix(y_test,y_test_pred))"
   ]
  },
  {
   "cell_type": "code",
   "execution_count": null,
   "metadata": {},
   "outputs": [],
   "source": []
  },
  {
   "cell_type": "code",
   "execution_count": null,
   "metadata": {},
   "outputs": [],
   "source": []
  },
  {
   "cell_type": "markdown",
   "metadata": {},
   "source": [
    "## SVM WITH RBF"
   ]
  },
  {
   "cell_type": "code",
   "execution_count": 28,
   "metadata": {},
   "outputs": [],
   "source": [
    "from sklearn.svm import SVC\n",
    "svm=SVC()\n",
    "svm.fit(x_train,y_train)\n",
    "y_train_pred=svm.predict(x_train)\n",
    "y_test_pred=svm.predict(x_test)"
   ]
  },
  {
   "cell_type": "code",
   "execution_count": 29,
   "metadata": {},
   "outputs": [
    {
     "name": "stdout",
     "output_type": "stream",
     "text": [
      "0.5905006418485238\n",
      "[[745 134]\n",
      " [504 175]]\n",
      "0.5635276532137519\n",
      "[[299  64]\n",
      " [228  78]]\n"
     ]
    }
   ],
   "source": [
    "print(accuracy_score(y_train,y_train_pred))\n",
    "print(confusion_matrix(y_train,y_train_pred))\n",
    "print(accuracy_score(y_test,y_test_pred))\n",
    "print(confusion_matrix(y_test,y_test_pred))"
   ]
  },
  {
   "cell_type": "code",
   "execution_count": 30,
   "metadata": {},
   "outputs": [],
   "source": [
    "tuned_parameters = {\n",
    " 'C': (np.arange(0.1,1,0.1)) , 'kernel': ['linear'],\n",
    " 'C': (np.arange(0.1,1,0.1)) , 'gamma': [0.01,0.02,0.03,0.04,0.05], 'kernel': ['rbf'],\n",
    " 'degree': [2,3,4] ,'gamma':[0.01,0.02,0.03,0.04,0.05], 'C':(np.arange(0.1,1,0.1)) , 'kernel':['poly']\n",
    "                   }"
   ]
  },
  {
   "cell_type": "code",
   "execution_count": 31,
   "metadata": {},
   "outputs": [],
   "source": [
    "from sklearn.model_selection import GridSearchCV"
   ]
  },
  {
   "cell_type": "code",
   "execution_count": 32,
   "metadata": {},
   "outputs": [
    {
     "name": "stdout",
     "output_type": "stream",
     "text": [
      "0.5641852770885029\n"
     ]
    }
   ],
   "source": [
    "sv2=GridSearchCV(svm,tuned_parameters,cv=10,scoring='accuracy')\n",
    "sv2.fit(x_train,y_train)\n",
    "print(sv2.best_score_)"
   ]
  },
  {
   "cell_type": "code",
   "execution_count": 33,
   "metadata": {},
   "outputs": [
    {
     "name": "stdout",
     "output_type": "stream",
     "text": [
      "{'C': 0.1, 'degree': 2, 'gamma': 0.01, 'kernel': 'poly'}\n"
     ]
    }
   ],
   "source": [
    "print(sv2.best_params_)"
   ]
  },
  {
   "cell_type": "code",
   "execution_count": 34,
   "metadata": {},
   "outputs": [],
   "source": [
    "y_train_pred=sv2.predict(x_train)\n",
    "y_test_pred=sv2.predict(x_test)"
   ]
  },
  {
   "cell_type": "code",
   "execution_count": 35,
   "metadata": {},
   "outputs": [
    {
     "name": "stdout",
     "output_type": "stream",
     "text": [
      "0.5641848523748395\n",
      "0.5426008968609866\n",
      "[[879   0]\n",
      " [679   0]]\n",
      "[[363   0]\n",
      " [306   0]]\n"
     ]
    }
   ],
   "source": [
    "print(accuracy_score(y_train,y_train_pred))\n",
    "print(accuracy_score(y_test,y_test_pred))\n",
    "print(confusion_matrix(y_train,y_train_pred))\n",
    "print(confusion_matrix(y_test,y_test_pred))"
   ]
  },
  {
   "cell_type": "code",
   "execution_count": null,
   "metadata": {},
   "outputs": [],
   "source": []
  },
  {
   "cell_type": "markdown",
   "metadata": {},
   "source": [
    "## SVM with Linear"
   ]
  },
  {
   "cell_type": "code",
   "execution_count": 36,
   "metadata": {},
   "outputs": [],
   "source": [
    "svm=SVC(kernel='linear')\n",
    "svm.fit(x_train,y_train)\n",
    "y_train_pred=svm.predict(x_train)\n",
    "y_test_pred=svm.predict(x_test)"
   ]
  },
  {
   "cell_type": "code",
   "execution_count": 37,
   "metadata": {},
   "outputs": [
    {
     "name": "stdout",
     "output_type": "stream",
     "text": [
      "0.5641848523748395\n",
      "[[879   0]\n",
      " [679   0]]\n",
      "0.5426008968609866\n",
      "[[363   0]\n",
      " [306   0]]\n"
     ]
    }
   ],
   "source": [
    "print(accuracy_score(y_train,y_train_pred))\n",
    "print(confusion_matrix(y_train,y_train_pred))\n",
    "print(accuracy_score(y_test,y_test_pred))\n",
    "print(confusion_matrix(y_test,y_test_pred))"
   ]
  },
  {
   "cell_type": "code",
   "execution_count": null,
   "metadata": {},
   "outputs": [],
   "source": []
  },
  {
   "cell_type": "markdown",
   "metadata": {},
   "source": [
    "## KNN "
   ]
  },
  {
   "cell_type": "code",
   "execution_count": 38,
   "metadata": {},
   "outputs": [],
   "source": [
    "from sklearn.neighbors import KNeighborsClassifier\n",
    "knn=KNeighborsClassifier(n_neighbors=1)\n",
    "knn.fit(x_train,y_train)\n",
    "y_pred_train=knn.predict(x_train)\n",
    "y_pred_test=knn.predict(x_test)"
   ]
  },
  {
   "cell_type": "code",
   "execution_count": 39,
   "metadata": {},
   "outputs": [
    {
     "name": "stdout",
     "output_type": "stream",
     "text": [
      "1.0\n",
      "0.5411061285500748\n",
      "[[879   0]\n",
      " [  0 679]]\n",
      "[[223 140]\n",
      " [167 139]]\n"
     ]
    }
   ],
   "source": [
    "print(accuracy_score(y_train,y_pred_train))\n",
    "print(accuracy_score(y_test,y_pred_test))\n",
    "print(confusion_matrix(y_train,y_pred_train))\n",
    "print(confusion_matrix(y_test,y_pred_test))"
   ]
  },
  {
   "cell_type": "code",
   "execution_count": 40,
   "metadata": {},
   "outputs": [],
   "source": [
    "error=[]\n",
    "for i in range(3,50):\n",
    "    knn1=KNeighborsClassifier(n_neighbors=i)\n",
    "    knn1.fit(x_train,y_train)\n",
    "    y_train_pred=knn1.predict(x_train)\n",
    "    y_test_pred=knn1.predict(x_test)\n",
    "    error.append(i)"
   ]
  },
  {
   "cell_type": "code",
   "execution_count": 41,
   "metadata": {},
   "outputs": [
    {
     "name": "stdout",
     "output_type": "stream",
     "text": [
      "0.6001283697047497\n",
      "[[684 195]\n",
      " [428 251]]\n",
      "              precision    recall  f1-score   support\n",
      "\n",
      "           0       0.62      0.78      0.69       879\n",
      "           1       0.56      0.37      0.45       679\n",
      "\n",
      "    accuracy                           0.60      1558\n",
      "   macro avg       0.59      0.57      0.57      1558\n",
      "weighted avg       0.59      0.60      0.58      1558\n",
      "\n",
      "____________________\n",
      "0.5336322869955157\n",
      "[[270  93]\n",
      " [219  87]]\n",
      "              precision    recall  f1-score   support\n",
      "\n",
      "           0       0.55      0.74      0.63       363\n",
      "           1       0.48      0.28      0.36       306\n",
      "\n",
      "    accuracy                           0.53       669\n",
      "   macro avg       0.52      0.51      0.50       669\n",
      "weighted avg       0.52      0.53      0.51       669\n",
      "\n"
     ]
    }
   ],
   "source": [
    "print(accuracy_score(y_train,y_train_pred))\n",
    "print(confusion_matrix(y_train,y_train_pred))\n",
    "print(classification_report(y_train,y_train_pred))\n",
    "print('_'*20)\n",
    "print(accuracy_score(y_test,y_test_pred))\n",
    "print(confusion_matrix(y_test,y_test_pred))\n",
    "print(classification_report(y_test,y_test_pred))\n"
   ]
  },
  {
   "cell_type": "code",
   "execution_count": 42,
   "metadata": {},
   "outputs": [],
   "source": [
    "from sklearn.model_selection import cross_val_score\n",
    "acc_rate=[]\n",
    "for i in range(1,40):\n",
    "    knn2=KNeighborsClassifier(n_neighbors=i)\n",
    "    score=cross_val_score(knn2,x_train,y_train,cv=10,scoring='accuracy')\n",
    "    acc_rate.append(score.mean())\n"
   ]
  },
  {
   "cell_type": "code",
   "execution_count": 43,
   "metadata": {},
   "outputs": [
    {
     "data": {
      "text/plain": [
       "[0.5840570719602978,\n",
       " 0.5718775847808105,\n",
       " 0.5609263854425144,\n",
       " 0.5673490488006616,\n",
       " 0.5673614557485525,\n",
       " 0.5738006617038874,\n",
       " 0.5776344086021504,\n",
       " 0.5891770057899091,\n",
       " 0.5647684036393714,\n",
       " 0.5788792390405294,\n",
       " 0.579516129032258,\n",
       " 0.5821050454921421,\n",
       " 0.575682382133995,\n",
       " 0.5795409429280397,\n",
       " 0.5917204301075268,\n",
       " 0.5929942100909844,\n",
       " 0.5917204301075268,\n",
       " 0.5910835401157982,\n",
       " 0.5911166253101736,\n",
       " 0.5949421009098428,\n",
       " 0.5853101736972706,\n",
       " 0.5859553349875932,\n",
       " 0.5737510339123243,\n",
       " 0.5718279569892473,\n",
       " 0.5750330851943756,\n",
       " 0.5731306865177832,\n",
       " 0.5647684036393713,\n",
       " 0.5712076095947063,\n",
       " 0.5654218362282878,\n",
       " 0.565413564929694,\n",
       " 0.5628494623655914,\n",
       " 0.5590033085194375,\n",
       " 0.5654094292803971,\n",
       " 0.5705293631100081,\n",
       " 0.5615467328370554,\n",
       " 0.5686104218362282,\n",
       " 0.5589826302729529,\n",
       " 0.5711703887510339,\n",
       " 0.5596236559139784]"
      ]
     },
     "execution_count": 43,
     "metadata": {},
     "output_type": "execute_result"
    }
   ],
   "source": [
    "acc_rate"
   ]
  },
  {
   "cell_type": "code",
   "execution_count": null,
   "metadata": {},
   "outputs": [],
   "source": []
  },
  {
   "cell_type": "code",
   "execution_count": null,
   "metadata": {},
   "outputs": [],
   "source": []
  },
  {
   "cell_type": "code",
   "execution_count": null,
   "metadata": {},
   "outputs": [],
   "source": []
  },
  {
   "cell_type": "code",
   "execution_count": null,
   "metadata": {},
   "outputs": [],
   "source": []
  },
  {
   "cell_type": "markdown",
   "metadata": {},
   "source": [
    "## DecisionTree"
   ]
  },
  {
   "cell_type": "code",
   "execution_count": 45,
   "metadata": {},
   "outputs": [
    {
     "name": "stdout",
     "output_type": "stream",
     "text": [
      "1.0\n",
      "0.9551569506726457\n",
      "[[879   0]\n",
      " [  0 679]]\n",
      "[[349  14]\n",
      " [ 16 290]]\n"
     ]
    }
   ],
   "source": [
    "from sklearn.tree import DecisionTreeClassifier\n",
    "dt1=DecisionTreeClassifier()\n",
    "dt1.fit(x_train,y_train)\n",
    "y_train_pred=dt1.predict(x_train)\n",
    "y_test_pred=dt1.predict(x_test)\n",
    "print(accuracy_score(y_train,y_train_pred))\n",
    "print(accuracy_score(y_test,y_test_pred))\n",
    "print(confusion_matrix(y_train,y_train_pred))\n",
    "print(confusion_matrix(y_test,y_test_pred))"
   ]
  },
  {
   "cell_type": "code",
   "execution_count": 46,
   "metadata": {},
   "outputs": [],
   "source": [
    "para={\"criterion\":(\"gini\", \"entropy\"), \n",
    "    \"splitter\":(\"best\", \"random\"), \n",
    "    \"max_depth\":(list(range(1, 20))), \n",
    "    \"min_samples_split\":[2, 3, 4], \n",
    "    \"min_samples_leaf\":list(range(1, 20)), \n",
    "    \n",
    "}"
   ]
  },
  {
   "cell_type": "code",
   "execution_count": 47,
   "metadata": {},
   "outputs": [
    {
     "name": "stdout",
     "output_type": "stream",
     "text": [
      "Fitting 3 folds for each of 4332 candidates, totalling 12996 fits\n"
     ]
    },
    {
     "data": {
      "text/plain": [
       "GridSearchCV(cv=3, estimator=DecisionTreeClassifier(random_state=42), n_jobs=-1,\n",
       "             param_grid={'criterion': ('gini', 'entropy'),\n",
       "                         'max_depth': [1, 2, 3, 4, 5, 6, 7, 8, 9, 10, 11, 12,\n",
       "                                       13, 14, 15, 16, 17, 18, 19],\n",
       "                         'min_samples_leaf': [1, 2, 3, 4, 5, 6, 7, 8, 9, 10, 11,\n",
       "                                              12, 13, 14, 15, 16, 17, 18, 19],\n",
       "                         'min_samples_split': [2, 3, 4],\n",
       "                         'splitter': ('best', 'random')},\n",
       "             scoring='accuracy', verbose=1)"
      ]
     },
     "execution_count": 47,
     "metadata": {},
     "output_type": "execute_result"
    }
   ],
   "source": [
    "dt2=DecisionTreeClassifier(random_state=42)\n",
    "tree=GridSearchCV(dt2, para, scoring=\"accuracy\", n_jobs=-1, verbose=1, cv=3)\n",
    "tree.fit(x_train,y_train)"
   ]
  },
  {
   "cell_type": "code",
   "execution_count": 48,
   "metadata": {},
   "outputs": [
    {
     "name": "stdout",
     "output_type": "stream",
     "text": [
      "0.883183568677792\n",
      "0.8699551569506726\n",
      "[[863  16]\n",
      " [166 513]]\n",
      "[[352  11]\n",
      " [ 76 230]]\n"
     ]
    }
   ],
   "source": [
    "aa=tree.best_params_\n",
    "dt3=DecisionTreeClassifier(**aa)\n",
    "dt3.fit(x_train,y_train)\n",
    "y_train_pred=dt3.predict(x_train)\n",
    "y_test_pred=dt3.predict(x_test)\n",
    "print(accuracy_score(y_train,y_train_pred))\n",
    "print(accuracy_score(y_test,y_test_pred))\n",
    "print(confusion_matrix(y_train,y_train_pred))\n",
    "print(confusion_matrix(y_test,y_test_pred))"
   ]
  },
  {
   "cell_type": "code",
   "execution_count": 49,
   "metadata": {},
   "outputs": [
    {
     "name": "stdout",
     "output_type": "stream",
     "text": [
      "              precision    recall  f1-score   support\n",
      "\n",
      "           0       0.84      0.98      0.90       879\n",
      "           1       0.97      0.76      0.85       679\n",
      "\n",
      "    accuracy                           0.88      1558\n",
      "   macro avg       0.90      0.87      0.88      1558\n",
      "weighted avg       0.90      0.88      0.88      1558\n",
      "\n"
     ]
    }
   ],
   "source": [
    "from sklearn.metrics import classification_report\n",
    "print(classification_report(y_train,y_train_pred))\n"
   ]
  },
  {
   "cell_type": "code",
   "execution_count": null,
   "metadata": {},
   "outputs": [],
   "source": []
  },
  {
   "cell_type": "markdown",
   "metadata": {},
   "source": [
    "# observation"
   ]
  },
  {
   "cell_type": "markdown",
   "metadata": {},
   "source": [
    "- According to All Models DecisionTree is the Best Model and Giving 90% accuracy\n",
    "- LogisticRegression model giving only 56% accuracy\n",
    "- SVM with Linear model giving only 56% accuracy and SVM with RBF model giving only 60% accuracy\n",
    "- KNN giving only 60% accuracy\n"
   ]
  },
  {
   "cell_type": "code",
   "execution_count": null,
   "metadata": {},
   "outputs": [],
   "source": []
  }
 ],
 "metadata": {
  "kernelspec": {
   "display_name": "Python 3",
   "language": "python",
   "name": "python3"
  },
  "language_info": {
   "codemirror_mode": {
    "name": "ipython",
    "version": 3
   },
   "file_extension": ".py",
   "mimetype": "text/x-python",
   "name": "python",
   "nbconvert_exporter": "python",
   "pygments_lexer": "ipython3",
   "version": "3.8.5"
  }
 },
 "nbformat": 4,
 "nbformat_minor": 4
}
